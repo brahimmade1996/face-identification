{
 "cells": [
  {
   "cell_type": "code",
   "execution_count": 1,
   "metadata": {},
   "outputs": [
    {
     "name": "stderr",
     "output_type": "stream",
     "text": [
      "Using TensorFlow backend.\n"
     ]
    }
   ],
   "source": [
    "import numpy as np\n",
    "import cv2\n",
    "import itertools\n",
    "from itertools import cycle, combinations\n",
    "import random\n",
    "from sklearn.utils import shuffle\n",
    "from sklearn.datasets import fetch_lfw_people\n",
    "from sklearn.model_selection import train_test_split\n",
    "from skimage.transform import resize\n",
    "from keras.layers import Input, Conv2D, Dense, BatchNormalization, Reshape, MaxPooling2D, Dropout, Flatten, Lambda\n",
    "from keras.models import Sequential, Model\n",
    "import keras.backend as K"
   ]
  },
  {
   "cell_type": "code",
   "execution_count": 2,
   "metadata": {},
   "outputs": [],
   "source": [
    "lfw_people = fetch_lfw_people(min_faces_per_person=40, resize=0.5)\n",
    "\n",
    "y = lfw_people.target\n",
    "n_samples, image_height, image_width = lfw_people.images.shape\n",
    "identities = lfw_people.target_names.tolist()\n",
    "n_identities = len(identities)"
   ]
  },
  {
   "cell_type": "markdown",
   "metadata": {},
   "source": [
    "# Define model"
   ]
  },
  {
   "cell_type": "code",
   "execution_count": 3,
   "metadata": {},
   "outputs": [],
   "source": [
    "EMBEDDING_SIZE = 128\n",
    "\n",
    "def triplet_loss(y_true, y_pred):\n",
    "    margin = K.constant(1)\n",
    "    return K.mean(K.maximum(K.constant(0), K.square(y_pred[:,0,0]) - 0.5*(K.square(y_pred[:,1,0]) + K.square(y_pred[:,2,0])) + margin))\n",
    "\n",
    "def euclidean_distance(vects):\n",
    "    x, y = vects\n",
    "    return K.sqrt(K.maximum(K.sum(K.square(x - y), axis=1, keepdims=True), K.epsilon()))\n",
    "\n",
    "def accuracy(y_true, y_pred):\n",
    "    return K.mean(y_pred[:,0,0] < y_pred[:,1,0])\n",
    "\n",
    "input_shape=(image_height, image_width, 1)\n",
    "\n",
    "input_anchor = Input(shape=input_shape, name='input_anchor')\n",
    "input_positive = Input(shape=input_shape, name='input_pos')\n",
    "input_negative = Input(shape=input_shape, name='input_neg')\n",
    "\n",
    "base_model = Sequential()\n",
    "base_model.add(Conv2D(32, (3, 3), activation='relu', input_shape=input_shape))\n",
    "base_model.add(Conv2D(32, (3, 3), activation='relu'))\n",
    "base_model.add(MaxPooling2D(pool_size=(2, 2)))\n",
    "base_model.add(Dropout(0.25))\n",
    "\n",
    "base_model.add(Conv2D(64, (3, 3), activation='relu'))\n",
    "base_model.add(Conv2D(64, (3, 3), activation='relu'))\n",
    "base_model.add(MaxPooling2D(pool_size=(2, 2)))\n",
    "base_model.add(Dropout(0.25))\n",
    "\n",
    "base_model.add(Flatten())\n",
    "base_model.add(Dense(256, activation='relu'))\n",
    "base_model.add(Dropout(0.25))\n",
    "base_model.add(Dense(EMBEDDING_SIZE, activation='sigmoid'))\n",
    "base_model.add(BatchNormalization())\n",
    "\n",
    "net_anchor = base_model(input_anchor)\n",
    "net_positive = base_model(input_positive)\n",
    "net_negative = base_model(input_negative)\n",
    "\n",
    "positive_dist = Lambda(euclidean_distance, name='pos_emb')([net_anchor, net_positive])\n",
    "negative_dist = Lambda(euclidean_distance, name='neg_emb')([net_anchor, net_negative])\n",
    "tertiary_dist = Lambda(euclidean_distance, name='ter_emb')([net_positive, net_negative])\n",
    "\n",
    "stacked_dists = Lambda(lambda vects: K.stack(vects, axis=1), \n",
    "                       output_shape=(None, EMBEDDING_SIZE),\n",
    "                       name='stacked_embs')([positive_dist, negative_dist, tertiary_dist])\n",
    "\n",
    "model = Model([input_anchor, input_positive, input_negative], stacked_dists, name='triple_siamese')\n",
    "\n",
    "model.compile(optimizer='adam',\n",
    "              loss=triplet_loss,\n",
    "              metrics=[accuracy])"
   ]
  },
  {
   "cell_type": "code",
   "execution_count": 4,
   "metadata": {},
   "outputs": [
    {
     "data": {
      "text/plain": [
       "array([[3.3124425e-02, 9.0561604e-01, 3.6879457e-03, 9.1490376e-01,\n",
       "        9.0644354e-01, 9.9626374e-01, 3.0075100e-01, 6.7711097e-01,\n",
       "        6.6965567e-03, 4.6070474e-01, 2.4735798e-01, 8.3927143e-01,\n",
       "        9.1638833e-01, 9.9948591e-01, 6.3326042e-05, 7.3071313e-01,\n",
       "        9.9945110e-01, 4.3173873e-01, 9.8479128e-01, 9.9686241e-01,\n",
       "        9.9858159e-01, 5.7859051e-01, 5.7595718e-01, 1.1336742e-03,\n",
       "        9.3975776e-01, 9.9661881e-01, 5.7316685e-01, 1.8459243e-01,\n",
       "        9.9797517e-01, 9.9919212e-01, 5.1944070e-02, 5.3292775e-01,\n",
       "        9.7478366e-01, 9.8869085e-01, 9.7813213e-01, 3.9679058e-02,\n",
       "        3.8064428e-04, 6.1579710e-01, 9.9889195e-01, 3.3692960e-04,\n",
       "        3.1836648e-02, 2.3351137e-01, 9.9923086e-01, 9.9531269e-01,\n",
       "        1.2289649e-01, 6.5927440e-01, 5.1234188e-06, 4.8647180e-01,\n",
       "        9.2149383e-01, 5.5542266e-01, 8.2136810e-01, 1.2987366e-01,\n",
       "        9.9930871e-01, 4.9193457e-02, 9.9948627e-01, 7.8103858e-01,\n",
       "        8.6901076e-02, 9.5579058e-01, 1.5609734e-03, 9.6314436e-01,\n",
       "        9.9872005e-01, 9.3832779e-01, 1.3813654e-01, 9.5624141e-02,\n",
       "        2.0018569e-03, 9.9942100e-01, 3.0986941e-01, 8.7690175e-01,\n",
       "        9.9844724e-01, 7.6441187e-01, 6.1669848e-03, 3.0623168e-02,\n",
       "        2.4242303e-05, 9.9852520e-01, 9.8842627e-01, 7.3911506e-01,\n",
       "        1.9770607e-01, 4.0656473e-02, 9.3210632e-01, 1.1303148e-01,\n",
       "        3.0160126e-01, 9.5716641e-05, 3.4609053e-01, 2.6964507e-01,\n",
       "        7.1401052e-02, 9.9589384e-01, 6.1030678e-06, 6.6743398e-01,\n",
       "        7.0178859e-02, 1.7358597e-01, 1.2532042e-02, 9.6021956e-01,\n",
       "        1.1584023e-03, 9.9706346e-01, 5.2194935e-01, 4.3263501e-03,\n",
       "        1.7126130e-03, 1.1045596e-02, 7.0277244e-02, 2.5623714e-07,\n",
       "        9.9875832e-01, 2.3470304e-04, 9.0519199e-03, 8.7964243e-01,\n",
       "        8.4166689e-04, 2.7999157e-02, 9.4778365e-01, 4.0751361e-04,\n",
       "        3.2578813e-05, 9.8443735e-01, 7.8462726e-01, 9.9949795e-01,\n",
       "        9.5550662e-05, 1.0193706e-01, 9.9926507e-01, 9.8918861e-01,\n",
       "        3.2354068e-02, 9.6688688e-01, 9.7154665e-01, 2.1900374e-03,\n",
       "        1.3715354e-02, 4.9447278e-03, 5.7316443e-04, 4.8732536e-06,\n",
       "        4.8645508e-02, 6.2388829e-03, 9.9848539e-01, 9.5646930e-01]],\n",
       "      dtype=float32)"
      ]
     },
     "execution_count": 4,
     "metadata": {},
     "output_type": "execute_result"
    }
   ],
   "source": [
    "base_model.predict(lfw_people.images[0].reshape((1, image_height, image_width, 1)))"
   ]
  },
  {
   "cell_type": "code",
   "execution_count": 5,
   "metadata": {},
   "outputs": [
    {
     "data": {
      "text/plain": [
       "(62, 47)"
      ]
     },
     "execution_count": 5,
     "metadata": {},
     "output_type": "execute_result"
    }
   ],
   "source": [
    "lfw_people.images[0].shape"
   ]
  },
  {
   "cell_type": "code",
   "execution_count": 6,
   "metadata": {},
   "outputs": [],
   "source": [
    "def normalize_scale(x):\n",
    "    '''Scale grayscale image <0,255> ints to <0,1> floats'''\n",
    "    return x / 255.0\n",
    "\n",
    "def transform_img(img_np):\n",
    "    # TODO: Add image alignment\n",
    "    return normalize_scale(img_np)\n",
    "\n",
    "id_images = { id: [] for id in identities }\n",
    "\n",
    "for i in range(0, lfw_people.images.shape[0]):\n",
    "    transformed_img = transform_img(lfw_people.images[i])\n",
    "    identity_id = identities[y[i]]\n",
    "    id_images[identity_id].append(transformed_img)"
   ]
  },
  {
   "cell_type": "code",
   "execution_count": 7,
   "metadata": {},
   "outputs": [
    {
     "data": {
      "text/plain": [
       "(62, 47)"
      ]
     },
     "execution_count": 7,
     "metadata": {},
     "output_type": "execute_result"
    }
   ],
   "source": [
    "id_images['Arnold Schwarzenegger'][0].shape"
   ]
  },
  {
   "cell_type": "code",
   "execution_count": 8,
   "metadata": {},
   "outputs": [
    {
     "data": {
      "image/png": "[encoded data removed]",
      "text/plain": [
       "<matplotlib.figure.Figure at 0x141d68f28>"
      ]
     },
     "metadata": {},
     "output_type": "display_data"
    }
   ],
   "source": [
    "import matplotlib.pyplot as plt\n",
    "%matplotlib inline\n",
    "\n",
    "plt.imshow(id_images['Arnold Schwarzenegger'][1], cmap='gray', vmin=0.0, vmax=1.0)\n",
    "plt.show()"
   ]
  },
  {
   "cell_type": "markdown",
   "metadata": {},
   "source": [
    "# Build batches"
   ]
  },
  {
   "cell_type": "code",
   "execution_count": 9,
   "metadata": {},
   "outputs": [],
   "source": [
    "batches = []\n",
    "\n",
    "for i in range(0, 40 // 5): # Take 5 out of 40+ images for each identity in each batch\n",
    "    X_batch = []\n",
    "    y_batch = []\n",
    "\n",
    "    for id in identities:\n",
    "        random.shuffle(id_images[id])\n",
    "        # Take 5 random images for each identity\n",
    "        for i in range(0, 5):\n",
    "            X_batch.append(id_images[id][i].reshape((image_height, image_width, 1)))\n",
    "            y_batch.append(id)\n",
    "\n",
    "    batches.append({ 'X': np.array(X_batch), 'y': y_batch })"
   ]
  },
  {
   "cell_type": "markdown",
   "metadata": {},
   "source": [
    "# Train model"
   ]
  },
  {
   "cell_type": "code",
   "execution_count": 10,
   "metadata": {},
   "outputs": [
    {
     "data": {
      "text/plain": [
       "(95, 128)"
      ]
     },
     "execution_count": 10,
     "metadata": {},
     "output_type": "execute_result"
    }
   ],
   "source": [
    "base_model.predict(batches[0]['X']).shape"
   ]
  },
  {
   "cell_type": "code",
   "execution_count": 11,
   "metadata": {},
   "outputs": [
    {
     "data": {
      "text/plain": [
       "'Ariel Sharon'"
      ]
     },
     "execution_count": 11,
     "metadata": {},
     "output_type": "execute_result"
    }
   ],
   "source": [
    "batches[0]['y'][0]"
   ]
  },
  {
   "cell_type": "code",
   "execution_count": 77,
   "metadata": {},
   "outputs": [
    {
     "data": {
      "text/plain": [
       "array([ True,  True,  True])"
      ]
     },
     "execution_count": 77,
     "metadata": {},
     "output_type": "execute_result"
    }
   ],
   "source": [
    "np.array([0, 1, 0]) == np.array([0, 1, 0])"
   ]
  },
  {
   "cell_type": "code",
   "execution_count": 59,
   "metadata": {},
   "outputs": [],
   "source": [
    "def get_semihards(batch, embeddings, anchor, pos, identity):\n",
    "    semihards = []\n",
    "    for i in range(len(batch['y'])):\n",
    "        if batch['y'][i] != identity and np.linalg.norm(anchor - pos) > np.linalg.norm(anchor - batch['X'][i]):\n",
    "            semihards.append(batch['X'][i])\n",
    "    return np.array(semihards)\n",
    "\n",
    "def get_positives(batch, identity):\n",
    "    pos = []\n",
    "    for i in range(len(batch['y'])):\n",
    "        if batch['y'][i] == identity:\n",
    "            pos.append(batch['X'][i])\n",
    "    return np.array(pos)\n",
    "\n",
    "def get_triplets(batch, embeddings):\n",
    "    triplets = [[], [], []]\n",
    "    for identity in identities:\n",
    "        pos = get_positives(batch, identity)\n",
    "        pos_tuples = list(combinations(pos, 2))\n",
    "        for anchor, pos in pos_tuples:\n",
    "            semihards = get_semihards(batch, embeddings, anchor, pos, identity)\n",
    "            for semihard in semihards:\n",
    "                triplets[0].append(anchor)\n",
    "                triplets[1].append(pos)\n",
    "                triplets[2].append(semihard)\n",
    "    return [np.array(triplets[0]), np.array(triplets[1]), np.array(triplets[2])]\n",
    "\n",
    "\n",
    "for batch in batches:\n",
    "    embeddings = base_model.predict(batch['X'])\n",
    "    triplets = get_triplets(batch, embeddings)\n",
    "    if len(triplets[0]) > 0:\n",
    "        model.train_on_batch(triplets, np.zeros(len(triplets[0])))"
   ]
  },
  {
   "cell_type": "code",
   "execution_count": 60,
   "metadata": {},
   "outputs": [],
   "source": [
    "embeddings = base_model.predict(batches[0]['X'])\n",
    "triplets = get_triplets(batches[0], embeddings)"
   ]
  },
  {
   "cell_type": "code",
   "execution_count": 61,
   "metadata": {},
   "outputs": [],
   "source": [
    "triplets[0] = triplets[0][0:100, :, :, :]\n",
    "triplets[1] = triplets[1][0:100, :, :, :]\n",
    "triplets[2] = triplets[2][0:100, :, :, :]"
   ]
  },
  {
   "cell_type": "code",
   "execution_count": 62,
   "metadata": {},
   "outputs": [
    {
     "data": {
      "text/plain": [
       "[1.7667803, 0.61]"
      ]
     },
     "execution_count": 62,
     "metadata": {},
     "output_type": "execute_result"
    }
   ],
   "source": [
    "model.train_on_batch(triplets, np.zeros(len(triplets[0])))"
   ]
  },
  {
   "cell_type": "markdown",
   "metadata": {},
   "source": [
    "# Trained Model Test"
   ]
  },
  {
   "cell_type": "code",
   "execution_count": 7,
   "metadata": {},
   "outputs": [],
   "source": [
    "import numpy as np\n",
    "\n",
    "batches, person_list, input_shape = np.load('../data/dataset.npy')"
   ]
  },
  {
   "cell_type": "code",
   "execution_count": 8,
   "metadata": {},
   "outputs": [
    {
     "data": {
      "text/plain": [
       "(100, 75, 1)"
      ]
     },
     "execution_count": 8,
     "metadata": {},
     "output_type": "execute_result"
    }
   ],
   "source": [
    "input_shape"
   ]
  },
  {
   "cell_type": "code",
   "execution_count": 11,
   "metadata": {},
   "outputs": [],
   "source": [
    "from squeezenet import create_model\n",
    "\n",
    "cecek_model = create_model(input_shape, 128)"
   ]
  },
  {
   "cell_type": "code",
   "execution_count": 12,
   "metadata": {},
   "outputs": [],
   "source": [
    "cecek_model.load_weights('../model/facenet_squeezenet_weights.h5')"
   ]
  },
  {
   "cell_type": "code",
   "execution_count": 13,
   "metadata": {},
   "outputs": [
    {
     "data": {
      "text/plain": [
       "('Aaron Peirsol', 'Aaron Peirsol', 'Abdullah')"
      ]
     },
     "execution_count": 13,
     "metadata": {},
     "output_type": "execute_result"
    }
   ],
   "source": [
    "batches[0]['y'][0], batches[0]['y'][1], batches[0]['y'][5]"
   ]
  },
  {
   "cell_type": "code",
   "execution_count": 15,
   "metadata": {},
   "outputs": [
    {
     "data": {
      "text/plain": [
       "4.109472"
      ]
     },
     "execution_count": 15,
     "metadata": {},
     "output_type": "execute_result"
    }
   ],
   "source": [
    "cecek_a = cecek_model.predict(batches[0]['X'][0].reshape((1, 100, 75, 1))).reshape((128,))\n",
    "cecek_b = cecek_model.predict(batches[0]['X'][1].reshape((1, 100, 75, 1))).reshape((128,))\n",
    "np.linalg.norm(cecek_a - cecek_b)"
   ]
  },
  {
   "cell_type": "code",
   "execution_count": 17,
   "metadata": {},
   "outputs": [
    {
     "data": {
      "text/plain": [
       "4.9722314"
      ]
     },
     "execution_count": 17,
     "metadata": {},
     "output_type": "execute_result"
    }
   ],
   "source": [
    "cecek_a = cecek_model.predict(batches[0]['X'][0].reshape(((1, 100, 75, 1)))).reshape((128,))\n",
    "cecek_b = cecek_model.predict(batches[0]['X'][5].reshape((1, 100, 75, 1))).reshape((128,))\n",
    "np.linalg.norm(cecek_a - cecek_b)"
   ]
  },
  {
   "cell_type": "code",
   "execution_count": 19,
   "metadata": {},
   "outputs": [
    {
     "data": {
      "text/plain": [
       "array([[0.33869407, 0.29226   , 0.19095892, 0.9738616 , 0.09419377,\n",
       "        0.55241334, 0.2859047 , 0.6532606 , 0.97450984, 0.7114258 ,\n",
       "        0.9616282 , 0.4089322 , 0.4542818 , 0.42849404, 0.9500675 ,\n",
       "        0.0104285 , 0.77147245, 0.10771455, 0.69529295, 0.11069614,\n",
       "        0.69548255, 0.98072815, 0.970315  , 0.03857901, 0.4425099 ,\n",
       "        0.07026688, 0.17698711, 0.14658111, 0.01358039, 0.38021865,\n",
       "        0.23545949, 0.23930222, 0.75630075, 0.10261254, 0.3492439 ,\n",
       "        0.23330936, 0.78441405, 0.77530503, 0.13317382, 0.8489595 ,\n",
       "        0.8181326 , 0.58240825, 0.21618965, 0.936974  , 0.74585915,\n",
       "        0.55132765, 0.7809031 , 0.12280788, 0.08387784, 0.03713632,\n",
       "        0.9897786 , 0.6879033 , 0.1234594 , 0.03015274, 0.8426458 ,\n",
       "        0.23442101, 0.42806718, 0.08623642, 0.2638505 , 0.35129133,\n",
       "        0.30554163, 0.41457385, 0.53762645, 0.34881085, 0.86679053,\n",
       "        0.70767456, 0.33353525, 0.15538171, 0.73793364, 0.91908026,\n",
       "        0.3093923 , 0.9739832 , 0.1438837 , 0.9814683 , 0.6778458 ,\n",
       "        0.9847751 , 0.3425779 , 0.97923034, 0.2385478 , 0.20395885,\n",
       "        0.04604764, 0.6427106 , 0.9019202 , 0.9815692 , 0.00874366,\n",
       "        0.6959075 , 0.20500493, 0.9697234 , 0.9463026 , 0.44582444,\n",
       "        0.29569006, 0.04573067, 0.9852556 , 0.01623467, 0.92413276,\n",
       "        0.4686799 , 0.47198498, 0.14680156, 0.03491436, 0.10446405,\n",
       "        0.70597845, 0.18745022, 0.9716315 , 0.91970056, 0.14191303,\n",
       "        0.0251447 , 0.25867218, 0.46571058, 0.56531197, 0.33520377,\n",
       "        0.95034426, 0.03455915, 0.855829  , 0.3682166 , 0.2000961 ,\n",
       "        0.5834257 , 0.88349736, 0.89507765, 0.7412821 , 0.12710746,\n",
       "        0.1622915 , 0.9845658 , 0.46922058, 0.63352036, 0.7325484 ,\n",
       "        0.64772266, 0.18478665, 0.34564602]], dtype=float32)"
      ]
     },
     "execution_count": 19,
     "metadata": {},
     "output_type": "execute_result"
    }
   ],
   "source": [
    "cecek_model.predict(batches[0]['X'][0].reshape((1, 100, 75, 1)))"
   ]
  },
  {
   "cell_type": "code",
   "execution_count": 1,
   "metadata": {},
   "outputs": [
    {
     "data": {
      "text/plain": [
       "(100, 75, 1)"
      ]
     },
     "execution_count": 1,
     "metadata": {},
     "output_type": "execute_result"
    }
   ],
   "source": [
    "from dataset import load_dataset\n",
    "\n",
    "batches, person_list, input_shape = load_dataset()\n",
    "\n",
    "input_shape"
   ]
  },
  {
   "cell_type": "code",
   "execution_count": 2,
   "metadata": {},
   "outputs": [],
   "source": [
    "import matplotlib.pyplot as plt\n",
    "%matplotlib inline"
   ]
  },
  {
   "cell_type": "code",
   "execution_count": 18,
   "metadata": {},
   "outputs": [
    {
     "data": {
      "image/png": "[encoded data removed]",
      "text/plain": [
       "<matplotlib.figure.Figure at 0x1217ec4a8>"
      ]
     },
     "metadata": {},
     "output_type": "display_data"
    }
   ],
   "source": [
    "plt.imshow(batches[0]['X'][6].reshape((100, 75)), cmap='gray', vmin=0, vmax=1)\n",
    "plt.show()"
   ]
  },
  {
   "cell_type": "code",
   "execution_count": 6,
   "metadata": {},
   "outputs": [],
   "source": [
    "from mobilenetv2 import create_model\n",
    "\n",
    "base_model = create_model(input_shape, 128)"
   ]
  },
  {
   "cell_type": "code",
   "execution_count": 7,
   "metadata": {},
   "outputs": [
    {
     "name": "stdout",
     "output_type": "stream",
     "text": [
      "_________________________________________________________________\n",
      "Layer (type)                 Output Shape              Param #   \n",
      "=================================================================\n",
      "conv2d (Conv2D)              (None, 97, 72, 36)        612       \n",
      "_________________________________________________________________\n",
      "max_pooling2d (MaxPooling2D) (None, 48, 36, 36)        0         \n",
      "_________________________________________________________________\n",
      "conv2d_1 (Conv2D)            (None, 46, 34, 40)        13000     \n",
      "_________________________________________________________________\n",
      "max_pooling2d_1 (MaxPooling2 (None, 23, 17, 40)        0         \n",
      "_________________________________________________________________\n",
      "dropout (Dropout)            (None, 23, 17, 40)        0         \n",
      "_________________________________________________________________\n",
      "conv2d_2 (Conv2D)            (None, 21, 15, 20)        7220      \n",
      "_________________________________________________________________\n",
      "max_pooling2d_2 (MaxPooling2 (None, 10, 7, 20)         0         \n",
      "_________________________________________________________________\n",
      "dropout_1 (Dropout)          (None, 10, 7, 20)         0         \n",
      "_________________________________________________________________\n",
      "flatten (Flatten)            (None, 1400)              0         \n",
      "_________________________________________________________________\n",
      "dense (Dense)                (None, 512)               717312    \n",
      "_________________________________________________________________\n",
      "dropout_2 (Dropout)          (None, 512)               0         \n",
      "_________________________________________________________________\n",
      "dense_1 (Dense)              (None, 128)               65664     \n",
      "=================================================================\n",
      "Total params: 803,808\n",
      "Trainable params: 803,808\n",
      "Non-trainable params: 0\n",
      "_________________________________________________________________\n"
     ]
    }
   ],
   "source": [
    "base_model.summary()"
   ]
  },
  {
   "cell_type": "code",
   "execution_count": 8,
   "metadata": {},
   "outputs": [],
   "source": [
    "base_model.load_weights('../model/facenet_mobilenetv2_weights.h5')"
   ]
  },
  {
   "cell_type": "code",
   "execution_count": 52,
   "metadata": {},
   "outputs": [],
   "source": [
    "from tensorflow.keras.layers import Dense, Activation, Flatten, Dropout, Lambda, concatenate, Input, BatchNormalization, concatenate\n",
    "from tensorflow.keras.layers import Conv2D, MaxPooling2D, GlobalAveragePooling2D\n",
    "from tensorflow.keras.models import Model\n",
    "\n",
    "def fire(x, squeeze=16, expand=64):\n",
    "    x = Conv2D(squeeze, (1,1), padding='valid')(x)\n",
    "    x = Activation('relu')(x)\n",
    "\n",
    "    left = Conv2D(expand, (1,1), padding='valid')(x)\n",
    "    left = Activation('relu')(left)\n",
    "\n",
    "    right = Conv2D(expand, (3,3), padding='same')(x)\n",
    "    right = Activation('relu')(right)\n",
    "\n",
    "    x = concatenate([left, right], axis=3)\n",
    "    return x\n",
    "\n",
    "def create_model(input_shape, embedding_size):\n",
    "    img_input = Input(input_shape)\n",
    "    x = Conv2D(64, (5, 5), strides=(2, 2), padding='valid')(img_input)\n",
    "    x = BatchNormalization()(x)\n",
    "    x = Activation('relu')(x)\n",
    "    x = MaxPooling2D(pool_size=(3, 3), strides=(2, 2))(x)\n",
    "    x = fire(x, squeeze=16, expand=16)\n",
    "    x = fire(x, squeeze=16, expand=16)\n",
    "    x = MaxPooling2D(pool_size=(3, 3), strides=(2, 2))(x)\n",
    "    x = fire(x, squeeze=32, expand=32)\n",
    "    x = fire(x, squeeze=32, expand=32)\n",
    "    x = MaxPooling2D(pool_size=(3, 3), strides=(2, 2))(x)\n",
    "    x = fire(x, squeeze=48, expand=48)\n",
    "    x = fire(x, squeeze=48, expand=48)\n",
    "    x = fire(x, squeeze=64, expand=64)\n",
    "    x = fire(x, squeeze=64, expand=64)\n",
    "    x = Dropout(0.2)(x)\n",
    "    x = Conv2D(512, (1, 1), padding='same')(x)\n",
    "    x = Activation('relu')(x)\n",
    "    x = GlobalAveragePooling2D()(x)\n",
    "    x = Dense(256, activation='relu')(x)\n",
    "    x = Dropout(0.5)(x)\n",
    "    out = Dense(embedding_size, activation='sigmoid')(x)\n",
    "\n",
    "    return Model(img_input, out)\n",
    "\n",
    "\n",
    "squeeze_net = create_model(input_shape, 128)"
   ]
  },
  {
   "cell_type": "code",
   "execution_count": 53,
   "metadata": {},
   "outputs": [
    {
     "name": "stdout",
     "output_type": "stream",
     "text": [
      "__________________________________________________________________________________________________\n",
      "Layer (type)                    Output Shape         Param #     Connected to                     \n",
      "==================================================================================================\n",
      "input_8 (InputLayer)            (None, 100, 75, 1)   0                                            \n",
      "__________________________________________________________________________________________________\n",
      "conv2d_165 (Conv2D)             (None, 48, 36, 64)   1664        input_8[0][0]                    \n",
      "__________________________________________________________________________________________________\n",
      "batch_normalization_6 (BatchNor (None, 48, 36, 64)   256         conv2d_165[0][0]                 \n",
      "__________________________________________________________________________________________________\n",
      "activation_156 (Activation)     (None, 48, 36, 64)   0           batch_normalization_6[0][0]      \n",
      "__________________________________________________________________________________________________\n",
      "max_pooling2d_27 (MaxPooling2D) (None, 23, 17, 64)   0           activation_156[0][0]             \n",
      "__________________________________________________________________________________________________\n",
      "conv2d_166 (Conv2D)             (None, 23, 17, 16)   1040        max_pooling2d_27[0][0]           \n",
      "__________________________________________________________________________________________________\n",
      "activation_157 (Activation)     (None, 23, 17, 16)   0           conv2d_166[0][0]                 \n",
      "__________________________________________________________________________________________________\n",
      "conv2d_167 (Conv2D)             (None, 23, 17, 16)   272         activation_157[0][0]             \n",
      "__________________________________________________________________________________________________\n",
      "conv2d_168 (Conv2D)             (None, 23, 17, 16)   2320        activation_157[0][0]             \n",
      "__________________________________________________________________________________________________\n",
      "activation_158 (Activation)     (None, 23, 17, 16)   0           conv2d_167[0][0]                 \n",
      "__________________________________________________________________________________________________\n",
      "activation_159 (Activation)     (None, 23, 17, 16)   0           conv2d_168[0][0]                 \n",
      "__________________________________________________________________________________________________\n",
      "concatenate_48 (Concatenate)    (None, 23, 17, 32)   0           activation_158[0][0]             \n",
      "                                                                 activation_159[0][0]             \n",
      "__________________________________________________________________________________________________\n",
      "conv2d_169 (Conv2D)             (None, 23, 17, 16)   528         concatenate_48[0][0]             \n",
      "__________________________________________________________________________________________________\n",
      "activation_160 (Activation)     (None, 23, 17, 16)   0           conv2d_169[0][0]                 \n",
      "__________________________________________________________________________________________________\n",
      "conv2d_170 (Conv2D)             (None, 23, 17, 16)   272         activation_160[0][0]             \n",
      "__________________________________________________________________________________________________\n",
      "conv2d_171 (Conv2D)             (None, 23, 17, 16)   2320        activation_160[0][0]             \n",
      "__________________________________________________________________________________________________\n",
      "activation_161 (Activation)     (None, 23, 17, 16)   0           conv2d_170[0][0]                 \n",
      "__________________________________________________________________________________________________\n",
      "activation_162 (Activation)     (None, 23, 17, 16)   0           conv2d_171[0][0]                 \n",
      "__________________________________________________________________________________________________\n",
      "concatenate_49 (Concatenate)    (None, 23, 17, 32)   0           activation_161[0][0]             \n",
      "                                                                 activation_162[0][0]             \n",
      "__________________________________________________________________________________________________\n",
      "max_pooling2d_28 (MaxPooling2D) (None, 11, 8, 32)    0           concatenate_49[0][0]             \n",
      "__________________________________________________________________________________________________\n",
      "conv2d_172 (Conv2D)             (None, 11, 8, 32)    1056        max_pooling2d_28[0][0]           \n",
      "__________________________________________________________________________________________________\n",
      "activation_163 (Activation)     (None, 11, 8, 32)    0           conv2d_172[0][0]                 \n",
      "__________________________________________________________________________________________________\n",
      "conv2d_173 (Conv2D)             (None, 11, 8, 32)    1056        activation_163[0][0]             \n",
      "__________________________________________________________________________________________________\n",
      "conv2d_174 (Conv2D)             (None, 11, 8, 32)    9248        activation_163[0][0]             \n",
      "__________________________________________________________________________________________________\n",
      "activation_164 (Activation)     (None, 11, 8, 32)    0           conv2d_173[0][0]                 \n",
      "__________________________________________________________________________________________________\n",
      "activation_165 (Activation)     (None, 11, 8, 32)    0           conv2d_174[0][0]                 \n",
      "__________________________________________________________________________________________________\n",
      "concatenate_50 (Concatenate)    (None, 11, 8, 64)    0           activation_164[0][0]             \n",
      "                                                                 activation_165[0][0]             \n",
      "__________________________________________________________________________________________________\n",
      "conv2d_175 (Conv2D)             (None, 11, 8, 32)    2080        concatenate_50[0][0]             \n",
      "__________________________________________________________________________________________________\n",
      "activation_166 (Activation)     (None, 11, 8, 32)    0           conv2d_175[0][0]                 \n",
      "__________________________________________________________________________________________________\n",
      "conv2d_176 (Conv2D)             (None, 11, 8, 32)    1056        activation_166[0][0]             \n",
      "__________________________________________________________________________________________________\n",
      "conv2d_177 (Conv2D)             (None, 11, 8, 32)    9248        activation_166[0][0]             \n",
      "__________________________________________________________________________________________________\n",
      "activation_167 (Activation)     (None, 11, 8, 32)    0           conv2d_176[0][0]                 \n",
      "__________________________________________________________________________________________________\n",
      "activation_168 (Activation)     (None, 11, 8, 32)    0           conv2d_177[0][0]                 \n",
      "__________________________________________________________________________________________________\n",
      "concatenate_51 (Concatenate)    (None, 11, 8, 64)    0           activation_167[0][0]             \n",
      "                                                                 activation_168[0][0]             \n",
      "__________________________________________________________________________________________________\n",
      "max_pooling2d_29 (MaxPooling2D) (None, 5, 3, 64)     0           concatenate_51[0][0]             \n",
      "__________________________________________________________________________________________________\n",
      "conv2d_178 (Conv2D)             (None, 5, 3, 48)     3120        max_pooling2d_29[0][0]           \n",
      "__________________________________________________________________________________________________\n",
      "activation_169 (Activation)     (None, 5, 3, 48)     0           conv2d_178[0][0]                 \n",
      "__________________________________________________________________________________________________\n",
      "conv2d_179 (Conv2D)             (None, 5, 3, 48)     2352        activation_169[0][0]             \n",
      "__________________________________________________________________________________________________\n",
      "conv2d_180 (Conv2D)             (None, 5, 3, 48)     20784       activation_169[0][0]             \n",
      "__________________________________________________________________________________________________\n",
      "activation_170 (Activation)     (None, 5, 3, 48)     0           conv2d_179[0][0]                 \n",
      "__________________________________________________________________________________________________\n",
      "activation_171 (Activation)     (None, 5, 3, 48)     0           conv2d_180[0][0]                 \n",
      "__________________________________________________________________________________________________\n",
      "concatenate_52 (Concatenate)    (None, 5, 3, 96)     0           activation_170[0][0]             \n",
      "                                                                 activation_171[0][0]             \n",
      "__________________________________________________________________________________________________\n",
      "conv2d_181 (Conv2D)             (None, 5, 3, 48)     4656        concatenate_52[0][0]             \n",
      "__________________________________________________________________________________________________\n",
      "activation_172 (Activation)     (None, 5, 3, 48)     0           conv2d_181[0][0]                 \n",
      "__________________________________________________________________________________________________\n",
      "conv2d_182 (Conv2D)             (None, 5, 3, 48)     2352        activation_172[0][0]             \n",
      "__________________________________________________________________________________________________\n",
      "conv2d_183 (Conv2D)             (None, 5, 3, 48)     20784       activation_172[0][0]             \n",
      "__________________________________________________________________________________________________\n",
      "activation_173 (Activation)     (None, 5, 3, 48)     0           conv2d_182[0][0]                 \n",
      "__________________________________________________________________________________________________\n",
      "activation_174 (Activation)     (None, 5, 3, 48)     0           conv2d_183[0][0]                 \n",
      "__________________________________________________________________________________________________\n",
      "concatenate_53 (Concatenate)    (None, 5, 3, 96)     0           activation_173[0][0]             \n",
      "                                                                 activation_174[0][0]             \n",
      "__________________________________________________________________________________________________\n",
      "conv2d_184 (Conv2D)             (None, 5, 3, 64)     6208        concatenate_53[0][0]             \n",
      "__________________________________________________________________________________________________\n",
      "activation_175 (Activation)     (None, 5, 3, 64)     0           conv2d_184[0][0]                 \n",
      "__________________________________________________________________________________________________\n",
      "conv2d_185 (Conv2D)             (None, 5, 3, 64)     4160        activation_175[0][0]             \n",
      "__________________________________________________________________________________________________\n",
      "conv2d_186 (Conv2D)             (None, 5, 3, 64)     36928       activation_175[0][0]             \n",
      "__________________________________________________________________________________________________\n",
      "activation_176 (Activation)     (None, 5, 3, 64)     0           conv2d_185[0][0]                 \n",
      "__________________________________________________________________________________________________\n",
      "activation_177 (Activation)     (None, 5, 3, 64)     0           conv2d_186[0][0]                 \n",
      "__________________________________________________________________________________________________\n",
      "concatenate_54 (Concatenate)    (None, 5, 3, 128)    0           activation_176[0][0]             \n",
      "                                                                 activation_177[0][0]             \n",
      "__________________________________________________________________________________________________\n",
      "conv2d_187 (Conv2D)             (None, 5, 3, 64)     8256        concatenate_54[0][0]             \n",
      "__________________________________________________________________________________________________\n",
      "activation_178 (Activation)     (None, 5, 3, 64)     0           conv2d_187[0][0]                 \n",
      "__________________________________________________________________________________________________\n",
      "conv2d_188 (Conv2D)             (None, 5, 3, 64)     4160        activation_178[0][0]             \n",
      "__________________________________________________________________________________________________\n",
      "conv2d_189 (Conv2D)             (None, 5, 3, 64)     36928       activation_178[0][0]             \n",
      "__________________________________________________________________________________________________\n",
      "activation_179 (Activation)     (None, 5, 3, 64)     0           conv2d_188[0][0]                 \n",
      "__________________________________________________________________________________________________\n",
      "activation_180 (Activation)     (None, 5, 3, 64)     0           conv2d_189[0][0]                 \n",
      "__________________________________________________________________________________________________\n",
      "concatenate_55 (Concatenate)    (None, 5, 3, 128)    0           activation_179[0][0]             \n",
      "                                                                 activation_180[0][0]             \n",
      "__________________________________________________________________________________________________\n",
      "dropout_20 (Dropout)            (None, 5, 3, 128)    0           concatenate_55[0][0]             \n",
      "__________________________________________________________________________________________________\n",
      "conv2d_190 (Conv2D)             (None, 5, 3, 512)    66048       dropout_20[0][0]                 \n",
      "__________________________________________________________________________________________________\n",
      "activation_181 (Activation)     (None, 5, 3, 512)    0           conv2d_190[0][0]                 \n",
      "__________________________________________________________________________________________________\n",
      "global_average_pooling2d_2 (Glo (None, 512)          0           activation_181[0][0]             \n",
      "__________________________________________________________________________________________________\n",
      "dense_16 (Dense)                (None, 256)          131328      global_average_pooling2d_2[0][0] \n",
      "__________________________________________________________________________________________________\n",
      "dropout_21 (Dropout)            (None, 256)          0           dense_16[0][0]                   \n",
      "__________________________________________________________________________________________________\n",
      "dense_17 (Dense)                (None, 128)          32896       dropout_21[0][0]                 \n",
      "==================================================================================================\n",
      "Total params: 413,376\n",
      "Trainable params: 413,248\n",
      "Non-trainable params: 128\n",
      "__________________________________________________________________________________________________\n"
     ]
    }
   ],
   "source": [
    "squeeze_net.summary()"
   ]
  },
  {
   "cell_type": "code",
   "execution_count": null,
   "metadata": {},
   "outputs": [],
   "source": []
  }
 ],
 "metadata": {
  "kernelspec": {
   "display_name": "Python 3",
   "language": "python",
   "name": "python3"
  },
  "language_info": {
   "codemirror_mode": {
    "name": "ipython",
    "version": 3
   },
   "file_extension": ".py",
   "mimetype": "text/x-python",
   "name": "python",
   "nbconvert_exporter": "python",
   "pygments_lexer": "ipython3",
   "version": "3.6.4"
  }
 },
 "nbformat": 4,
 "nbformat_minor": 2
}
