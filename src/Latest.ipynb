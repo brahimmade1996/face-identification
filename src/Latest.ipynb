{
 "cells": [
  {
   "cell_type": "code",
   "execution_count": 58,
   "metadata": {},
   "outputs": [],
   "source": [
    "import os\n",
    "import numpy as np\n",
    "import random\n",
    "from sklearn.datasets import fetch_lfw_people\n",
    "from sklearn.model_selection import train_test_split\n",
    "from utils import relative_path, file_exists\n",
    "\n",
    "\n",
    "NUM_CHANNELS = 1\n",
    "TEST_SIZE = 0.05\n",
    "MIN_FACES_PER_PERSON = 2\n",
    "DATASET_COMPRESSED_PATH = os.environ.get('DATASET', relative_path('../data/dataset.npy'))\n",
    "\n",
    "\n",
    "def fetch_dataset():\n",
    "    lfw_people = fetch_lfw_people(min_faces_per_person=MIN_FACES_PER_PERSON, resize=0.8)\n",
    "    images = lfw_people.images.reshape(lfw_people.images.shape + (NUM_CHANNELS,))\n",
    "    images = images / 255.0\n",
    "#     return train_test_split(images, lfw_people.target, test_size=TEST_SIZE)\n",
    "    return images, lfw_people.target\n",
    "\n",
    "\n",
    "def load_dataset():\n",
    "    if file_exists(DATASET_COMPRESSED_PATH):\n",
    "        return np.load(DATASET_COMPRESSED_PATH, allow_pickle=True)\n",
    "    else:\n",
    "        return fetch_dataset()\n",
    "\n",
    "\n",
    "# if __name__ == '__main__':\n",
    "#     dataset = fetch_dataset()\n",
    "#     np.save(DATASET_COMPRESSED_PATH, dataset)\n",
    "#     print('Dataset saved to %s' % (DATASET_COMPRESSED_PATH))\n"
   ]
  },
  {
   "cell_type": "code",
   "execution_count": 59,
   "metadata": {},
   "outputs": [],
   "source": [
    "dataset = fetch_dataset()"
   ]
  },
  {
   "cell_type": "code",
   "execution_count": 60,
   "metadata": {},
   "outputs": [],
   "source": [
    "# X_train, X_test, y_train, y_test = dataset\n",
    "X_train, y_train = dataset"
   ]
  },
  {
   "cell_type": "code",
   "execution_count": 114,
   "metadata": {},
   "outputs": [],
   "source": [
    "from itertools import cycle\n",
    "\n",
    "BATCH_SIZE = 256\n",
    "MAX_PERSON_IMGS_IN_BATCH = 50\n",
    "MAX_ANCHOR_POS_COUNT_IN_BATCH = 10\n",
    "SEMIHARD_MARGIN = 0.2\n",
    "\n",
    "def is_semihard(anchor, pos, neg):\n",
    "    return np.linalg.norm(anchor - pos) + SEMIHARD_MARGIN > np.linalg.norm(anchor - neg)\n",
    "\n",
    "def person_image_mapping(images, targets):\n",
    "    person_images = { person_id: [] for person_id in set(targets) }\n",
    "\n",
    "    for i in range(0, images.shape[0]):\n",
    "        person_id = targets[i]\n",
    "        person_images[person_id].append(images[i])\n",
    "\n",
    "    return person_images\n",
    "\n",
    "\n",
    "def triplet_generator(person_image, calc_embedding):\n",
    "    batch_anchor = []\n",
    "    batch_pos    = []\n",
    "    batch_neg    = []\n",
    "    \n",
    "    for person in cycle(person_image.keys()):\n",
    "        pos_tuples = zip(person_image[person], person_image[person][1:])\n",
    "        person_count = 0\n",
    "\n",
    "        for anchor_img, pos_img in pos_tuples:\n",
    "            other_people_imgs = [ imgs for other_person, imgs in person_image.items() if person != other_person ]\n",
    "            other_people_imgs = [ img for imgs in other_people_imgs for img in imgs ]\n",
    "            random.shuffle(other_people_imgs)\n",
    "            anchor_emb = calc_embedding(anchor_img.reshape((1,) + anchor_img.shape))\n",
    "            anchor_pos_count = 0\n",
    "            \n",
    "            for neg_img in other_people_imgs:\n",
    "                pos_emb = calc_embedding(pos_img.reshape((1,) + pos_img.shape))\n",
    "                neg_emb = calc_embedding(neg_img.reshape((1,) + neg_img.shape))\n",
    "                \n",
    "                if is_semihard(anchor_emb, pos_emb, neg_emb):\n",
    "                    batch_anchor.append(anchor_img)\n",
    "                    batch_pos.append(pos_img)\n",
    "                    batch_neg.append(neg_img)\n",
    "                    person_count += 1\n",
    "                    anchor_pos_count += 1\n",
    "                    \n",
    "                if len(batch_anchor) == BATCH_SIZE:\n",
    "                    yield [np.array(batch_anchor), np.array(batch_pos), np.array(batch_neg)]\n",
    "                    anchor_emb = calc_embedding(anchor_img.reshape((1,) + anchor_img.shape))\n",
    "                    batch_anchor = []\n",
    "                    batch_pos    = []\n",
    "                    batch_neg    = []\n",
    "                    \n",
    "                if anchor_pos_count >= MAX_ANCHOR_POS_COUNT_IN_BATCH:\n",
    "                    break\n",
    "                    \n",
    "                if person_count >= MAX_PERSON_IMGS_IN_BATCH:\n",
    "                    break\n",
    "                    \n",
    "            if person_count >= MAX_PERSON_IMGS_IN_BATCH:\n",
    "                    break"
   ]
  },
  {
   "cell_type": "code",
   "execution_count": 9,
   "metadata": {},
   "outputs": [],
   "source": [
    "from train import load_model\n",
    "\n",
    "input_shape = X_train.shape[1:]\n",
    "facenet_model, base_model = load_model(input_shape)"
   ]
  },
  {
   "cell_type": "code",
   "execution_count": 68,
   "metadata": {},
   "outputs": [],
   "source": [
    "person_image = person_image_mapping(X_train, y_train)"
   ]
  },
  {
   "cell_type": "code",
   "execution_count": 115,
   "metadata": {},
   "outputs": [],
   "source": [
    "triplet_gen = triplet_generator(person_image, base_model.predict)\n",
    "batch = next(triplet_gen)"
   ]
  },
  {
   "cell_type": "code",
   "execution_count": 50,
   "metadata": {},
   "outputs": [],
   "source": [
    "import matplotlib.pyplot as plt\n",
    "%matplotlib inline\n",
    "\n",
    "def show_image(img_np):\n",
    "    plt.imshow(img_np.reshape((img_np.shape[0], img_np.shape[1])), cmap='gray', vmin=0, vmax=1)\n",
    "    plt.show()"
   ]
  },
  {
   "cell_type": "code",
   "execution_count": 81,
   "metadata": {},
   "outputs": [],
   "source": [
    "batch = next(triplet_gen)"
   ]
  },
  {
   "cell_type": "code",
   "execution_count": 123,
   "metadata": {},
   "outputs": [
    {
     "data": {
      "image/png": "[encoded data removed]",
      "text/plain": [
       "<matplotlib.figure.Figure at 0x13afec4e0>"
      ]
     },
     "metadata": {},
     "output_type": "display_data"
    }
   ],
   "source": [
    "show_image(batch[2][20])"
   ]
  },
  {
   "cell_type": "code",
   "execution_count": null,
   "metadata": {},
   "outputs": [],
   "source": []
  }
 ],
 "metadata": {
  "kernelspec": {
   "display_name": "Python 3",
   "language": "python",
   "name": "python3"
  },
  "language_info": {
   "codemirror_mode": {
    "name": "ipython",
    "version": 3
   },
   "file_extension": ".py",
   "mimetype": "text/x-python",
   "name": "python",
   "nbconvert_exporter": "python",
   "pygments_lexer": "ipython3",
   "version": "3.6.4"
  }
 },
 "nbformat": 4,
 "nbformat_minor": 2
}
