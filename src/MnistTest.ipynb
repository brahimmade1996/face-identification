{
 "cells": [
  {
   "cell_type": "code",
   "execution_count": 1,
   "metadata": {},
   "outputs": [
    {
     "name": "stderr",
     "output_type": "stream",
     "text": [
      "Using TensorFlow backend.\n"
     ]
    }
   ],
   "source": [
    "import numpy as np\n",
    "import cv2\n",
    "import itertools\n",
    "from itertools import cycle, combinations\n",
    "import random\n",
    "from sklearn.utils import shuffle\n",
    "from sklearn.model_selection import train_test_split\n",
    "from skimage.transform import resize\n",
    "from keras.layers import Input, Conv2D, Dense, BatchNormalization, Reshape, MaxPooling2D, Dropout, Flatten, Lambda\n",
    "from keras.models import Sequential, Model\n",
    "from keras.datasets import mnist\n",
    "import keras.backend as K"
   ]
  },
  {
   "cell_type": "code",
   "execution_count": 10,
   "metadata": {},
   "outputs": [],
   "source": [
    "num_classes = 10\n",
    "epochs = 12\n",
    "image_height, image_width = 28, 28\n",
    "\n",
    "(x_train, y_train), (x_test, y_test) = mnist.load_data()\n",
    "x_train = x_train.reshape(x_train.shape[0], image_height, image_width, 1)\n",
    "x_test = x_test.reshape(x_test.shape[0], image_height, image_width, 1)\n",
    "input_shape = (image_height, image_width, 1)\n",
    "\n",
    "x_train = x_train.astype('float32')\n",
    "x_test = x_test.astype('float32')\n",
    "x_train /= 255\n",
    "x_test /= 255"
   ]
  },
  {
   "cell_type": "markdown",
   "metadata": {},
   "source": [
    "# Define model"
   ]
  },
  {
   "cell_type": "code",
   "execution_count": 9,
   "metadata": {},
   "outputs": [],
   "source": [
    "from keras.layers import Concatenate\n",
    "\n",
    "EMBEDDING_SIZE = 24\n",
    "\n",
    "def triplet_loss(unused, stacked_dists):\n",
    "    margin = K.constant(1)\n",
    "    pos_dist = stacked_dists[:,0,0]\n",
    "    neg_dist = stacked_dists[:,1,0]\n",
    "    tert_dist = stacked_dists[:,2,0]\n",
    "    return K.mean(K.maximum(K.constant(0), \n",
    "                            pos_dist - 0.5*(neg_dist + tert_dist) + margin))\n",
    "\n",
    "def euclidean_distance(vects):\n",
    "    x, y = vects\n",
    "    return K.sqrt(K.maximum(K.sum(K.square(x - y), axis=1, keepdims=True), K.epsilon()))\n",
    "\n",
    "def accuracy(y_true, y_pred):\n",
    "    return K.mean(y_pred[:,0,0] < y_pred[:,1,0])\n",
    "\n",
    "input_shape=(image_height, image_width, 1)\n",
    "\n",
    "input_anchor = Input(shape=input_shape, name='input_anchor')\n",
    "input_positive = Input(shape=input_shape, name='input_pos')\n",
    "input_negative = Input(shape=input_shape, name='input_neg')\n",
    "\n",
    "base_model = Sequential()\n",
    "base_model.add(Conv2D(32, kernel_size=(3, 3),\n",
    "                 activation='relu',\n",
    "                 input_shape=input_shape))\n",
    "base_model.add(Conv2D(64, (3, 3), activation='relu'))\n",
    "base_model.add(MaxPooling2D(pool_size=(2, 2)))\n",
    "base_model.add(Dropout(0.25))\n",
    "base_model.add(Flatten())\n",
    "base_model.add(Dense(128, activation='relu'))\n",
    "base_model.add(Dropout(0.5))\n",
    "base_model.add(Dense(num_classes, activation='sigmoid'))\n",
    "\n",
    "net_anchor = base_model(input_anchor)\n",
    "net_positive = base_model(input_positive)\n",
    "net_negative = base_model(input_negative)\n",
    "\n",
    "positive_dist = Lambda(euclidean_distance, name='pos_emb')([net_anchor, net_positive])\n",
    "negative_dist = Lambda(euclidean_distance, name='neg_emb')([net_anchor, net_negative])\n",
    "tertiary_dist = Lambda(euclidean_distance, name='ter_emb')([net_positive, net_negative])\n",
    "\n",
    "stacked_dists = Lambda(lambda vects: K.stack(vects, axis=1), \n",
    "                       output_shape=(None, EMBEDDING_SIZE),\n",
    "                       name='stacked_embs')([positive_dist, negative_dist, tertiary_dist])\n",
    "\n",
    "model = Model([input_anchor, input_positive, input_negative], stacked_dists, name='triple_siamese')\n",
    "\n",
    "model.compile(optimizer='adam',\n",
    "              loss=triplet_loss,\n",
    "              metrics=[accuracy])"
   ]
  },
  {
   "cell_type": "code",
   "execution_count": 4,
   "metadata": {},
   "outputs": [
    {
     "data": {
      "text/plain": [
       "TensorShape([Dimension(None), Dimension(3), Dimension(1)])"
      ]
     },
     "execution_count": 4,
     "metadata": {},
     "output_type": "execute_result"
    }
   ],
   "source": [
    "stacked_dists.shape"
   ]
  },
  {
   "cell_type": "code",
   "execution_count": 11,
   "metadata": {},
   "outputs": [
    {
     "data": {
      "text/plain": [
       "array([[0.49555492, 0.51869786, 0.4892794 , 0.511538  , 0.5051619 ,\n",
       "        0.5319921 , 0.47961015, 0.48390597, 0.4930492 , 0.51413816]],\n",
       "      dtype=float32)"
      ]
     },
     "execution_count": 11,
     "metadata": {},
     "output_type": "execute_result"
    }
   ],
   "source": [
    "base_model.predict(x_train[0].reshape((1, image_height, image_width, 1)))"
   ]
  },
  {
   "cell_type": "code",
   "execution_count": 12,
   "metadata": {},
   "outputs": [],
   "source": [
    "digit_images = { digit: [] for digit in range(0, 10) }\n",
    "\n",
    "for i in range(0, x_train.shape[0]):\n",
    "    digit = y_train[i]\n",
    "    digit_images[digit].append(x_train[i])"
   ]
  },
  {
   "cell_type": "code",
   "execution_count": 7,
   "metadata": {},
   "outputs": [
    {
     "data": {
      "text/plain": [
       "(28, 28, 1)"
      ]
     },
     "execution_count": 7,
     "metadata": {},
     "output_type": "execute_result"
    }
   ],
   "source": [
    "digit_images[3][0].shape"
   ]
  },
  {
   "cell_type": "code",
   "execution_count": 8,
   "metadata": {},
   "outputs": [
    {
     "data": {
      "image/png": "[encoded data removed]",
      "text/plain": [
       "<matplotlib.figure.Figure at 0x14995c128>"
      ]
     },
     "metadata": {},
     "output_type": "display_data"
    }
   ],
   "source": [
    "import matplotlib.pyplot as plt\n",
    "%matplotlib inline\n",
    "\n",
    "plt.imshow(digit_images[3][0].reshape((28, 28)), cmap='gray', vmin=0.0, vmax=1.0)\n",
    "plt.show()"
   ]
  },
  {
   "cell_type": "markdown",
   "metadata": {},
   "source": [
    "# Build batches"
   ]
  },
  {
   "cell_type": "code",
   "execution_count": 9,
   "metadata": {},
   "outputs": [
    {
     "data": {
      "text/plain": [
       "(60000, 28, 28, 1)"
      ]
     },
     "execution_count": 9,
     "metadata": {},
     "output_type": "execute_result"
    }
   ],
   "source": [
    "x_train.shape"
   ]
  },
  {
   "cell_type": "code",
   "execution_count": 13,
   "metadata": {},
   "outputs": [],
   "source": [
    "batches = []\n",
    "\n",
    "for i in range(0, 500):\n",
    "    X_batch = []\n",
    "    y_batch = []\n",
    "\n",
    "    for digit in range(0, 10):\n",
    "        random.shuffle(digit_images[digit])\n",
    "        # Take 5 random images for each digit\n",
    "        for i in range(0, 5):\n",
    "            X_batch.append(digit_images[digit][i].reshape((image_height, image_width, 1)))\n",
    "            y_batch.append(digit)\n",
    "\n",
    "    batches.append({ 'X': np.array(X_batch), 'y': y_batch })"
   ]
  },
  {
   "cell_type": "markdown",
   "metadata": {},
   "source": [
    "# Train model"
   ]
  },
  {
   "cell_type": "code",
   "execution_count": 10,
   "metadata": {},
   "outputs": [
    {
     "data": {
      "text/plain": [
       "(50, 10)"
      ]
     },
     "execution_count": 10,
     "metadata": {},
     "output_type": "execute_result"
    }
   ],
   "source": [
    "base_model.predict(batches[0]['X']).shape"
   ]
  },
  {
   "cell_type": "code",
   "execution_count": 11,
   "metadata": {},
   "outputs": [
    {
     "data": {
      "text/plain": [
       "0"
      ]
     },
     "execution_count": 11,
     "metadata": {},
     "output_type": "execute_result"
    }
   ],
   "source": [
    "batches[0]['y'][0]"
   ]
  },
  {
   "cell_type": "code",
   "execution_count": 14,
   "metadata": {},
   "outputs": [],
   "source": [
    "def get_semihards(batch, embeddings, anchor, pos, digit):\n",
    "    semihards = []\n",
    "    for i in range(len(batch['y'])):\n",
    "        if batch['y'][i] != digit and np.linalg.norm(anchor - pos) > np.linalg.norm(anchor - batch['X'][i]):\n",
    "            semihards.append(batch['X'][i])\n",
    "    return np.array(semihards)\n",
    "\n",
    "def get_positives(batch, digit):\n",
    "    pos = []\n",
    "    for i in range(len(batch['y'])):\n",
    "        if batch['y'][i] == digit:\n",
    "            pos.append(batch['X'][i])\n",
    "    return np.array(pos)\n",
    "\n",
    "def get_triplets(batch, embeddings):\n",
    "    triplets = [[], [], []]\n",
    "    for digit in range(0, 10):\n",
    "        pos = get_positives(batch, digit)\n",
    "        pos_tuples = list(combinations(pos, 2))\n",
    "        for anchor, pos in pos_tuples:\n",
    "            semihards = get_semihards(batch, embeddings, anchor, pos, digit)\n",
    "            for semihard in semihards:\n",
    "                triplets[0].append(anchor)\n",
    "                triplets[1].append(pos)\n",
    "                triplets[2].append(semihard)\n",
    "    return [np.array(triplets[0]), np.array(triplets[1]), np.array(triplets[2])]"
   ]
  },
  {
   "cell_type": "code",
   "execution_count": 15,
   "metadata": {},
   "outputs": [
    {
     "name": "stdout",
     "output_type": "stream",
     "text": [
      "Training batch 0 out of 500\n",
      "Accuracy on triplet sublist: 0.43\n",
      "Accuracy on triplet sublist: 0.39333335\n",
      "Accuracy on triplet sublist: 0.43333334\n",
      "Accuracy on triplet sublist: 0.36444443\n",
      "Training batch 1 out of 500\n",
      "Accuracy on triplet sublist: 0.37\n",
      "Accuracy on triplet sublist: 0.45\n",
      "Accuracy on triplet sublist: 0.47\n",
      "Accuracy on triplet sublist: 0.42222223\n",
      "Training batch 2 out of 500\n",
      "Accuracy on triplet sublist: 0.72333336\n",
      "Accuracy on triplet sublist: 0.6\n",
      "Accuracy on triplet sublist: 0.52666664\n",
      "Accuracy on triplet sublist: 0.5463917\n",
      "Training batch 3 out of 500\n",
      "Accuracy on triplet sublist: 0.7633333\n",
      "Accuracy on triplet sublist: 0.64666665\n",
      "Accuracy on triplet sublist: 0.6666667\n",
      "Accuracy on triplet sublist: 0.6254417\n",
      "Training batch 4 out of 500\n",
      "Accuracy on triplet sublist: 0.5566667\n",
      "Accuracy on triplet sublist: 0.62666667\n",
      "Accuracy on triplet sublist: 0.6766667\n",
      "Accuracy on triplet sublist: 0.50729924\n",
      "Training batch 5 out of 500\n",
      "Accuracy on triplet sublist: 0.69\n",
      "Accuracy on triplet sublist: 0.69\n",
      "Accuracy on triplet sublist: 0.6666667\n",
      "Accuracy on triplet sublist: 0.6666667\n",
      "Accuracy on triplet sublist: 0.6101695\n",
      "Training batch 6 out of 500\n",
      "Accuracy on triplet sublist: 0.8066667\n",
      "Accuracy on triplet sublist: 0.68\n",
      "Accuracy on triplet sublist: 0.72\n",
      "Accuracy on triplet sublist: 0.61928934\n",
      "Training batch 7 out of 500\n",
      "Accuracy on triplet sublist: 0.75666666\n",
      "Accuracy on triplet sublist: 0.66333336\n",
      "Accuracy on triplet sublist: 0.72\n",
      "Training batch 8 out of 500\n",
      "Accuracy on triplet sublist: 0.64\n",
      "Accuracy on triplet sublist: 0.68\n",
      "Accuracy on triplet sublist: 0.74333334\n",
      "Accuracy on triplet sublist: 0.5714286\n",
      "Training batch 9 out of 500\n",
      "Accuracy on triplet sublist: 0.77666664\n",
      "Accuracy on triplet sublist: 0.67333335\n",
      "Accuracy on triplet sublist: 0.63666666\n",
      "Accuracy on triplet sublist: 0.6744186\n",
      "Training batch 10 out of 500\n",
      "Accuracy on triplet sublist: 0.7\n",
      "Accuracy on triplet sublist: 0.7633333\n",
      "Accuracy on triplet sublist: 0.77666664\n",
      "Accuracy on triplet sublist: 0.6127451\n",
      "Training batch 11 out of 500\n",
      "Accuracy on triplet sublist: 0.78\n",
      "Accuracy on triplet sublist: 0.69\n",
      "Accuracy on triplet sublist: 0.69503546\n",
      "Training batch 12 out of 500\n",
      "Accuracy on triplet sublist: 0.7266667\n",
      "Accuracy on triplet sublist: 0.50666666\n",
      "Accuracy on triplet sublist: 0.50333333\n",
      "Accuracy on triplet sublist: 0.7671233\n",
      "Training batch 13 out of 500\n",
      "Accuracy on triplet sublist: 0.6666667\n",
      "Accuracy on triplet sublist: 0.68333334\n",
      "Accuracy on triplet sublist: 0.74666667\n",
      "Accuracy on triplet sublist: 0.7133333\n",
      "Accuracy on triplet sublist: 0.7790698\n",
      "Training batch 14 out of 500\n",
      "Accuracy on triplet sublist: 0.75333333\n",
      "Accuracy on triplet sublist: 0.7133333\n",
      "Accuracy on triplet sublist: 0.6533333\n",
      "Accuracy on triplet sublist: 0.74603176\n",
      "Training batch 15 out of 500\n",
      "Accuracy on triplet sublist: 0.8333333\n",
      "Accuracy on triplet sublist: 0.75333333\n",
      "Accuracy on triplet sublist: 0.71\n",
      "Accuracy on triplet sublist: 0.72727275\n",
      "Training batch 16 out of 500\n",
      "Accuracy on triplet sublist: 0.68\n",
      "Accuracy on triplet sublist: 0.8433333\n",
      "Accuracy on triplet sublist: 0.73333335\n",
      "Accuracy on triplet sublist: 0.8333333\n",
      "Training batch 17 out of 500\n",
      "Accuracy on triplet sublist: 0.78333336\n",
      "Accuracy on triplet sublist: 0.62666667\n",
      "Accuracy on triplet sublist: 0.5966667\n",
      "Accuracy on triplet sublist: 0.81865287\n",
      "Training batch 18 out of 500\n",
      "Accuracy on triplet sublist: 0.5\n",
      "Accuracy on triplet sublist: 0.85\n",
      "Accuracy on triplet sublist: 0.7586207\n",
      "Training batch 19 out of 500\n",
      "Accuracy on triplet sublist: 0.8\n",
      "Accuracy on triplet sublist: 0.85\n",
      "Accuracy on triplet sublist: 0.7733333\n",
      "Accuracy on triplet sublist: 0.76666665\n",
      "Accuracy on triplet sublist: 0.75\n",
      "Training batch 20 out of 500\n",
      "Accuracy on triplet sublist: 0.87\n",
      "Accuracy on triplet sublist: 0.83666664\n",
      "Accuracy on triplet sublist: 0.76666665\n",
      "Accuracy on triplet sublist: 0.80333334\n",
      "Accuracy on triplet sublist: 0.8433735\n",
      "Training batch 21 out of 500\n",
      "Accuracy on triplet sublist: 0.8233333\n",
      "Accuracy on triplet sublist: 0.7033333\n",
      "Accuracy on triplet sublist: 0.65\n",
      "Accuracy on triplet sublist: 0.73333335\n",
      "Training batch 22 out of 500\n",
      "Accuracy on triplet sublist: 0.8333333\n",
      "Accuracy on triplet sublist: 0.81666666\n",
      "Accuracy on triplet sublist: 0.73\n",
      "Accuracy on triplet sublist: 0.78\n",
      "Accuracy on triplet sublist: 0.375\n",
      "Training batch 23 out of 500\n",
      "Accuracy on triplet sublist: 0.91\n",
      "Accuracy on triplet sublist: 0.7266667\n",
      "Accuracy on triplet sublist: 0.82\n",
      "Accuracy on triplet sublist: 0.72115386\n",
      "Training batch 24 out of 500\n",
      "Accuracy on triplet sublist: 0.6933333\n",
      "Accuracy on triplet sublist: 0.6\n",
      "Accuracy on triplet sublist: 0.81666666\n",
      "Accuracy on triplet sublist: 0.81960785\n",
      "Training batch 25 out of 500\n",
      "Accuracy on triplet sublist: 0.88\n",
      "Accuracy on triplet sublist: 0.8066667\n",
      "Accuracy on triplet sublist: 0.89\n",
      "Accuracy on triplet sublist: 0.8433333\n",
      "Accuracy on triplet sublist: 0.8666667\n",
      "Training batch 26 out of 500\n",
      "Accuracy on triplet sublist: 0.88666666\n",
      "Accuracy on triplet sublist: 0.87\n",
      "Accuracy on triplet sublist: 0.7966667\n",
      "Accuracy on triplet sublist: 0.72727275\n",
      "Training batch 27 out of 500\n",
      "Accuracy on triplet sublist: 0.82\n",
      "Accuracy on triplet sublist: 0.83666664\n",
      "Accuracy on triplet sublist: 0.8333333\n",
      "Accuracy on triplet sublist: 0.76744187\n",
      "Training batch 28 out of 500\n",
      "Accuracy on triplet sublist: 0.80333334\n",
      "Accuracy on triplet sublist: 0.6\n",
      "Accuracy on triplet sublist: 0.74\n",
      "Accuracy on triplet sublist: 0.7519084\n",
      "Training batch 29 out of 500\n",
      "Accuracy on triplet sublist: 0.87666667\n",
      "Accuracy on triplet sublist: 0.89666665\n",
      "Accuracy on triplet sublist: 0.69666666\n",
      "Accuracy on triplet sublist: 0.74058574\n",
      "Training batch 30 out of 500\n",
      "Accuracy on triplet sublist: 0.82\n",
      "Accuracy on triplet sublist: 0.81333333\n",
      "Accuracy on triplet sublist: 0.8333333\n",
      "Accuracy on triplet sublist: 0.7311321\n",
      "Training batch 31 out of 500\n",
      "Accuracy on triplet sublist: 0.71666664\n",
      "Accuracy on triplet sublist: 0.8833333\n",
      "Accuracy on triplet sublist: 0.92333335\n",
      "Accuracy on triplet sublist: 0.85333335\n",
      "Accuracy on triplet sublist: 0.8666667\n",
      "Training batch 32 out of 500\n",
      "Accuracy on triplet sublist: 0.88\n",
      "Accuracy on triplet sublist: 0.93666667\n",
      "Accuracy on triplet sublist: 0.64666665\n",
      "Accuracy on triplet sublist: 0.5\n",
      "Training batch 33 out of 500\n",
      "Accuracy on triplet sublist: 0.87333333\n",
      "Accuracy on triplet sublist: 0.8433333\n",
      "Accuracy on triplet sublist: 0.7866667\n",
      "Accuracy on triplet sublist: 0.83928573\n",
      "Training batch 34 out of 500\n",
      "Accuracy on triplet sublist: 0.79333335\n",
      "Accuracy on triplet sublist: 0.7966667\n",
      "Accuracy on triplet sublist: 0.7866667\n",
      "Accuracy on triplet sublist: 0.60544217\n",
      "Training batch 35 out of 500\n",
      "Accuracy on triplet sublist: 0.74\n",
      "Accuracy on triplet sublist: 0.8466667\n",
      "Accuracy on triplet sublist: 0.86\n",
      "Accuracy on triplet sublist: 0.8356164\n",
      "Training batch 36 out of 500\n",
      "Accuracy on triplet sublist: 0.6566667\n",
      "Accuracy on triplet sublist: 0.57666665\n",
      "Accuracy on triplet sublist: 0.84\n",
      "Accuracy on triplet sublist: 0.8541667\n",
      "Training batch 37 out of 500\n",
      "Accuracy on triplet sublist: 0.75333333\n",
      "Accuracy on triplet sublist: 0.8333333\n",
      "Accuracy on triplet sublist: 0.7735849\n",
      "Training batch 38 out of 500\n",
      "Accuracy on triplet sublist: 0.84\n",
      "Accuracy on triplet sublist: 0.8833333\n",
      "Accuracy on triplet sublist: 0.87\n",
      "Accuracy on triplet sublist: 0.8844221\n",
      "Training batch 39 out of 500\n",
      "Accuracy on triplet sublist: 0.8933333\n",
      "Accuracy on triplet sublist: 0.81666666\n",
      "Accuracy on triplet sublist: 0.776699\n",
      "Training batch 40 out of 500\n",
      "Accuracy on triplet sublist: 0.91333336\n",
      "Accuracy on triplet sublist: 0.92333335\n",
      "Accuracy on triplet sublist: 0.9066667\n",
      "Accuracy on triplet sublist: 0.8253425\n",
      "Training batch 41 out of 500\n",
      "Accuracy on triplet sublist: 0.82\n",
      "Accuracy on triplet sublist: 0.74333334\n",
      "Accuracy on triplet sublist: 0.8833333\n",
      "Accuracy on triplet sublist: 0.8047138\n",
      "Training batch 42 out of 500\n",
      "Accuracy on triplet sublist: 0.82\n",
      "Accuracy on triplet sublist: 0.92333335\n",
      "Accuracy on triplet sublist: 0.87666667\n",
      "Accuracy on triplet sublist: 0.7683824\n",
      "Training batch 43 out of 500\n",
      "Accuracy on triplet sublist: 0.8466667\n",
      "Accuracy on triplet sublist: 0.96\n",
      "Accuracy on triplet sublist: 0.8233333\n",
      "Accuracy on triplet sublist: 0.5169492\n",
      "Training batch 44 out of 500\n",
      "Accuracy on triplet sublist: 0.86333334\n",
      "Accuracy on triplet sublist: 0.9\n",
      "Accuracy on triplet sublist: 0.86\n",
      "Accuracy on triplet sublist: 0.85333335\n",
      "Accuracy on triplet sublist: 0.8787879\n",
      "Training batch 45 out of 500\n"
     ]
    },
    {
     "name": "stdout",
     "output_type": "stream",
     "text": [
      "Accuracy on triplet sublist: 0.7133333\n",
      "Accuracy on triplet sublist: 0.68666667\n",
      "Accuracy on triplet sublist: 0.9066667\n",
      "Accuracy on triplet sublist: 0.77666664\n",
      "Accuracy on triplet sublist: 0.8\n",
      "Training batch 46 out of 500\n",
      "Accuracy on triplet sublist: 0.89\n",
      "Accuracy on triplet sublist: 0.87\n",
      "Accuracy on triplet sublist: 0.71\n",
      "Accuracy on triplet sublist: 0.82978725\n",
      "Training batch 47 out of 500\n",
      "Accuracy on triplet sublist: 0.81666666\n",
      "Accuracy on triplet sublist: 0.85\n",
      "Accuracy on triplet sublist: 0.89\n",
      "Accuracy on triplet sublist: 0.7711864\n",
      "Training batch 48 out of 500\n",
      "Accuracy on triplet sublist: 0.7733333\n",
      "Accuracy on triplet sublist: 0.8933333\n",
      "Accuracy on triplet sublist: 0.83666664\n",
      "Accuracy on triplet sublist: 0.90909094\n",
      "Training batch 49 out of 500\n",
      "Accuracy on triplet sublist: 0.63\n",
      "Accuracy on triplet sublist: 0.8833333\n",
      "Accuracy on triplet sublist: 0.91333336\n",
      "Accuracy on triplet sublist: 0.91729325\n"
     ]
    }
   ],
   "source": [
    "MAX_TRIPLET_LIST_SIZE = 300\n",
    "\n",
    "for i, batch in enumerate(batches[:50]):\n",
    "    print('Training batch %s out of %s' % (i, len(batches)))\n",
    "    embeddings = base_model.predict(batch['X'])\n",
    "    triplets = get_triplets(batch, embeddings)\n",
    "    \n",
    "    for i in range(0, len(triplets[0]), MAX_TRIPLET_LIST_SIZE):\n",
    "        triplet_sublist = [triplets[0][i:i+MAX_TRIPLET_LIST_SIZE], triplets[1][i:i+MAX_TRIPLET_LIST_SIZE], triplets[2][i:i+MAX_TRIPLET_LIST_SIZE]]\n",
    "        _, acc = model.train_on_batch(triplet_sublist, np.zeros(len(triplet_sublist[0])))\n",
    "        print('Accuracy on triplet sublist: %s' % acc)"
   ]
  },
  {
   "cell_type": "code",
   "execution_count": 20,
   "metadata": {},
   "outputs": [
    {
     "data": {
      "text/plain": [
       "array([7, 2, 1, 0, 4, 1, 4, 9, 5, 9, 0, 6, 9, 0, 1, 5, 9, 7, 3, 4],\n",
       "      dtype=uint8)"
      ]
     },
     "execution_count": 20,
     "metadata": {},
     "output_type": "execute_result"
    }
   ],
   "source": [
    "y_test[0:20]"
   ]
  },
  {
   "cell_type": "code",
   "execution_count": 23,
   "metadata": {},
   "outputs": [
    {
     "data": {
      "text/plain": [
       "0.027289307"
      ]
     },
     "execution_count": 23,
     "metadata": {},
     "output_type": "execute_result"
    }
   ],
   "source": [
    "a = base_model.predict(x_test[4].reshape((1, image_height, image_width, 1)))\n",
    "b = base_model.predict(x_test[6].reshape((1, image_height, image_width, 1)))\n",
    "np.linalg.norm(a - b)"
   ]
  },
  {
   "cell_type": "code",
   "execution_count": 25,
   "metadata": {},
   "outputs": [
    {
     "data": {
      "text/plain": [
       "2.2253618"
      ]
     },
     "execution_count": 25,
     "metadata": {},
     "output_type": "execute_result"
    }
   ],
   "source": [
    "a = base_model.predict(x_test[0].reshape((1, image_height, image_width, 1)))\n",
    "b = base_model.predict(x_test[1].reshape((1, image_height, image_width, 1)))\n",
    "np.linalg.norm(a - b)"
   ]
  },
  {
   "cell_type": "code",
   "execution_count": 31,
   "metadata": {},
   "outputs": [
    {
     "name": "stdout",
     "output_type": "stream",
     "text": [
      "146 out of 200\n"
     ]
    }
   ],
   "source": [
    "total = 0\n",
    "correct = 0\n",
    "\n",
    "y_cecek = list(y_train)[0:100]\n",
    "\n",
    "def cecek_predict(emb):\n",
    "    distances = []\n",
    "    for digit in range(0, 10):\n",
    "        dist = base_model.predict(x_train[y_cecek.index(digit)].reshape((1, image_height, image_width, 1)))\n",
    "        distances.append((np.linalg.norm(emb - dist), digit))\n",
    "    distances.sort(key=lambda i: i[0])\n",
    "    return distances[0][1]\n",
    "\n",
    "for i, digit in enumerate(y_test[0:200]):\n",
    "    total += 1\n",
    "    emb = base_model.predict(x_test[i].reshape((1, image_height, image_width, 1)))\n",
    "    if digit == cecek_predict(emb):\n",
    "        correct += 1\n",
    "        \n",
    "print('%s out of %s' % (correct, total))"
   ]
  },
  {
   "cell_type": "code",
   "execution_count": 21,
   "metadata": {},
   "outputs": [],
   "source": [
    "base_model.save_weights('./mnist_base.h5')"
   ]
  },
  {
   "cell_type": "code",
   "execution_count": 5,
   "metadata": {},
   "outputs": [],
   "source": [
    "from keras.models import load_model\n",
    "\n",
    "# base_model = load_model('./mnist_base.hd5')\n",
    "\n",
    "cecek_model = Sequential()\n",
    "cecek_model.add(Conv2D(32, kernel_size=(3, 3),\n",
    "                 activation='relu',\n",
    "                 input_shape=input_shape))\n",
    "cecek_model.add(Conv2D(64, (3, 3), activation='relu'))\n",
    "cecek_model.add(MaxPooling2D(pool_size=(2, 2)))\n",
    "cecek_model.add(Dropout(0.25))\n",
    "cecek_model.add(Flatten())\n",
    "cecek_model.add(Dense(128, activation='relu'))\n",
    "cecek_model.add(Dropout(0.5))\n",
    "cecek_model.add(Dense(num_classes, activation='sigmoid'))\n",
    "\n",
    "\n",
    "cecek_model.load_weights('./mnist_base.h5')"
   ]
  },
  {
   "cell_type": "code",
   "execution_count": 7,
   "metadata": {},
   "outputs": [
    {
     "data": {
      "text/plain": [
       "1.7331535"
      ]
     },
     "execution_count": 7,
     "metadata": {},
     "output_type": "execute_result"
    }
   ],
   "source": [
    "a = cecek_model.predict(x_train[0].reshape((1, image_height, image_width, 1)))\n",
    "b = cecek_model.predict(x_train[1].reshape((1, image_height, image_width, 1)))\n",
    "np.linalg.norm(a - b)"
   ]
  },
  {
   "cell_type": "code",
   "execution_count": null,
   "metadata": {},
   "outputs": [],
   "source": []
  }
 ],
 "metadata": {
  "kernelspec": {
   "display_name": "Python 3",
   "language": "python",
   "name": "python3"
  },
  "language_info": {
   "codemirror_mode": {
    "name": "ipython",
    "version": 3
   },
   "file_extension": ".py",
   "mimetype": "text/x-python",
   "name": "python",
   "nbconvert_exporter": "python",
   "pygments_lexer": "ipython3",
   "version": "3.6.4"
  }
 },
 "nbformat": 4,
 "nbformat_minor": 2
}
